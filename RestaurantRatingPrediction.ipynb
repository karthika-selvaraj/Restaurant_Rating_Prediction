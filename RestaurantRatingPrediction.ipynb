{
 "cells": [
  {
   "cell_type": "code",
   "execution_count": 1,
   "id": "8b316c37",
   "metadata": {},
   "outputs": [],
   "source": [
    "# importing packages\n",
    "import pandas as pd\n",
    "import numpy as np\n",
    "import seaborn as sns\n",
    "import matplotlib.pyplot as plt\n",
    "from sklearn.preprocessing import LabelEncoder,StandardScaler\n",
    "from sklearn.model_selection import train_test_split\n",
    "from sklearn.linear_model import LinearRegression\n",
    "from sklearn.tree import DecisionTreeRegressor\n",
    "from sklearn.ensemble import RandomForestRegressor\n",
    "from xgboost import XGBRegressor\n",
    "from sklearn.ensemble import ExtraTreesRegressor\n",
    "from sklearn.metrics import r2_score\n",
    "import warnings\n",
    "warnings.filterwarnings('ignore')\n",
    "pd.set_option('display.max_columns',None)"
   ]
  },
  {
   "cell_type": "code",
   "execution_count": 2,
   "id": "2d11ef35",
   "metadata": {},
   "outputs": [
    {
     "data": {
      "text/html": [
       "<div>\n",
       "<style scoped>\n",
       "    .dataframe tbody tr th:only-of-type {\n",
       "        vertical-align: middle;\n",
       "    }\n",
       "\n",
       "    .dataframe tbody tr th {\n",
       "        vertical-align: top;\n",
       "    }\n",
       "\n",
       "    .dataframe thead th {\n",
       "        text-align: right;\n",
       "    }\n",
       "</style>\n",
       "<table border=\"1\" class=\"dataframe\">\n",
       "  <thead>\n",
       "    <tr style=\"text-align: right;\">\n",
       "      <th></th>\n",
       "      <th>url</th>\n",
       "      <th>address</th>\n",
       "      <th>name</th>\n",
       "      <th>online_order</th>\n",
       "      <th>book_table</th>\n",
       "      <th>rate</th>\n",
       "      <th>votes</th>\n",
       "      <th>phone</th>\n",
       "      <th>location</th>\n",
       "      <th>rest_type</th>\n",
       "      <th>dish_liked</th>\n",
       "      <th>cuisines</th>\n",
       "      <th>approx_cost(for two people)</th>\n",
       "      <th>reviews_list</th>\n",
       "      <th>menu_item</th>\n",
       "      <th>listed_in(type)</th>\n",
       "      <th>listed_in(city)</th>\n",
       "    </tr>\n",
       "  </thead>\n",
       "  <tbody>\n",
       "    <tr>\n",
       "      <th>0</th>\n",
       "      <td>https://www.zomato.com/bangalore/jalsa-banasha...</td>\n",
       "      <td>942, 21st Main Road, 2nd Stage, Banashankari, ...</td>\n",
       "      <td>Jalsa</td>\n",
       "      <td>Yes</td>\n",
       "      <td>Yes</td>\n",
       "      <td>4.1/5</td>\n",
       "      <td>775</td>\n",
       "      <td>080 42297555\\r\\n+91 9743772233</td>\n",
       "      <td>Banashankari</td>\n",
       "      <td>Casual Dining</td>\n",
       "      <td>Pasta, Lunch Buffet, Masala Papad, Paneer Laja...</td>\n",
       "      <td>North Indian, Mughlai, Chinese</td>\n",
       "      <td>800</td>\n",
       "      <td>[('Rated 4.0', 'RATED\\n  A beautiful place to ...</td>\n",
       "      <td>[]</td>\n",
       "      <td>Buffet</td>\n",
       "      <td>Banashankari</td>\n",
       "    </tr>\n",
       "    <tr>\n",
       "      <th>1</th>\n",
       "      <td>https://www.zomato.com/bangalore/spice-elephan...</td>\n",
       "      <td>2nd Floor, 80 Feet Road, Near Big Bazaar, 6th ...</td>\n",
       "      <td>Spice Elephant</td>\n",
       "      <td>Yes</td>\n",
       "      <td>No</td>\n",
       "      <td>4.1/5</td>\n",
       "      <td>787</td>\n",
       "      <td>080 41714161</td>\n",
       "      <td>Banashankari</td>\n",
       "      <td>Casual Dining</td>\n",
       "      <td>Momos, Lunch Buffet, Chocolate Nirvana, Thai G...</td>\n",
       "      <td>Chinese, North Indian, Thai</td>\n",
       "      <td>800</td>\n",
       "      <td>[('Rated 4.0', 'RATED\\n  Had been here for din...</td>\n",
       "      <td>[]</td>\n",
       "      <td>Buffet</td>\n",
       "      <td>Banashankari</td>\n",
       "    </tr>\n",
       "    <tr>\n",
       "      <th>2</th>\n",
       "      <td>https://www.zomato.com/SanchurroBangalore?cont...</td>\n",
       "      <td>1112, Next to KIMS Medical College, 17th Cross...</td>\n",
       "      <td>San Churro Cafe</td>\n",
       "      <td>Yes</td>\n",
       "      <td>No</td>\n",
       "      <td>3.8/5</td>\n",
       "      <td>918</td>\n",
       "      <td>+91 9663487993</td>\n",
       "      <td>Banashankari</td>\n",
       "      <td>Cafe, Casual Dining</td>\n",
       "      <td>Churros, Cannelloni, Minestrone Soup, Hot Choc...</td>\n",
       "      <td>Cafe, Mexican, Italian</td>\n",
       "      <td>800</td>\n",
       "      <td>[('Rated 3.0', \"RATED\\n  Ambience is not that ...</td>\n",
       "      <td>[]</td>\n",
       "      <td>Buffet</td>\n",
       "      <td>Banashankari</td>\n",
       "    </tr>\n",
       "  </tbody>\n",
       "</table>\n",
       "</div>"
      ],
      "text/plain": [
       "                                                 url  \\\n",
       "0  https://www.zomato.com/bangalore/jalsa-banasha...   \n",
       "1  https://www.zomato.com/bangalore/spice-elephan...   \n",
       "2  https://www.zomato.com/SanchurroBangalore?cont...   \n",
       "\n",
       "                                             address             name  \\\n",
       "0  942, 21st Main Road, 2nd Stage, Banashankari, ...            Jalsa   \n",
       "1  2nd Floor, 80 Feet Road, Near Big Bazaar, 6th ...   Spice Elephant   \n",
       "2  1112, Next to KIMS Medical College, 17th Cross...  San Churro Cafe   \n",
       "\n",
       "  online_order book_table   rate  votes                           phone  \\\n",
       "0          Yes        Yes  4.1/5    775  080 42297555\\r\\n+91 9743772233   \n",
       "1          Yes         No  4.1/5    787                    080 41714161   \n",
       "2          Yes         No  3.8/5    918                  +91 9663487993   \n",
       "\n",
       "       location            rest_type  \\\n",
       "0  Banashankari        Casual Dining   \n",
       "1  Banashankari        Casual Dining   \n",
       "2  Banashankari  Cafe, Casual Dining   \n",
       "\n",
       "                                          dish_liked  \\\n",
       "0  Pasta, Lunch Buffet, Masala Papad, Paneer Laja...   \n",
       "1  Momos, Lunch Buffet, Chocolate Nirvana, Thai G...   \n",
       "2  Churros, Cannelloni, Minestrone Soup, Hot Choc...   \n",
       "\n",
       "                         cuisines approx_cost(for two people)  \\\n",
       "0  North Indian, Mughlai, Chinese                         800   \n",
       "1     Chinese, North Indian, Thai                         800   \n",
       "2          Cafe, Mexican, Italian                         800   \n",
       "\n",
       "                                        reviews_list menu_item  \\\n",
       "0  [('Rated 4.0', 'RATED\\n  A beautiful place to ...        []   \n",
       "1  [('Rated 4.0', 'RATED\\n  Had been here for din...        []   \n",
       "2  [('Rated 3.0', \"RATED\\n  Ambience is not that ...        []   \n",
       "\n",
       "  listed_in(type) listed_in(city)  \n",
       "0          Buffet    Banashankari  \n",
       "1          Buffet    Banashankari  \n",
       "2          Buffet    Banashankari  "
      ]
     },
     "execution_count": 2,
     "metadata": {},
     "output_type": "execute_result"
    }
   ],
   "source": [
    "Data_df=pd.read_csv('zomato.csv')\n",
    "Data_df.head(3)"
   ]
  },
  {
   "cell_type": "code",
   "execution_count": 3,
   "id": "35d92d9f",
   "metadata": {},
   "outputs": [],
   "source": [
    "df=Data_df.sample(30000,random_state=1).copy()"
   ]
  },
  {
   "cell_type": "code",
   "execution_count": 4,
   "id": "343c7697",
   "metadata": {},
   "outputs": [
    {
     "name": "stdout",
     "output_type": "stream",
     "text": [
      "<class 'pandas.core.frame.DataFrame'>\n",
      "Int64Index: 30000 entries, 8157 to 31696\n",
      "Data columns (total 17 columns):\n",
      " #   Column                       Non-Null Count  Dtype \n",
      "---  ------                       --------------  ----- \n",
      " 0   url                          30000 non-null  object\n",
      " 1   address                      30000 non-null  object\n",
      " 2   name                         30000 non-null  object\n",
      " 3   online_order                 30000 non-null  object\n",
      " 4   book_table                   30000 non-null  object\n",
      " 5   rate                         25391 non-null  object\n",
      " 6   votes                        30000 non-null  int64 \n",
      " 7   phone                        29293 non-null  object\n",
      " 8   location                     29989 non-null  object\n",
      " 9   rest_type                    29870 non-null  object\n",
      " 10  dish_liked                   13703 non-null  object\n",
      " 11  cuisines                     29978 non-null  object\n",
      " 12  approx_cost(for two people)  29807 non-null  object\n",
      " 13  reviews_list                 30000 non-null  object\n",
      " 14  menu_item                    30000 non-null  object\n",
      " 15  listed_in(type)              30000 non-null  object\n",
      " 16  listed_in(city)              30000 non-null  object\n",
      "dtypes: int64(1), object(16)\n",
      "memory usage: 4.1+ MB\n"
     ]
    }
   ],
   "source": [
    "df.info()"
   ]
  },
  {
   "cell_type": "code",
   "execution_count": 5,
   "id": "677f6745",
   "metadata": {},
   "outputs": [
    {
     "data": {
      "text/plain": [
       "url                                0\n",
       "address                            0\n",
       "name                               0\n",
       "online_order                       0\n",
       "book_table                         0\n",
       "rate                            4609\n",
       "votes                              0\n",
       "phone                            707\n",
       "location                          11\n",
       "rest_type                        130\n",
       "dish_liked                     16297\n",
       "cuisines                          22\n",
       "approx_cost(for two people)      193\n",
       "reviews_list                       0\n",
       "menu_item                          0\n",
       "listed_in(type)                    0\n",
       "listed_in(city)                    0\n",
       "dtype: int64"
      ]
     },
     "execution_count": 5,
     "metadata": {},
     "output_type": "execute_result"
    }
   ],
   "source": [
    "df.isnull().sum()"
   ]
  },
  {
   "cell_type": "code",
   "execution_count": 6,
   "id": "10bbed50",
   "metadata": {},
   "outputs": [
    {
     "data": {
      "text/plain": [
       "(30000, 17)"
      ]
     },
     "execution_count": 6,
     "metadata": {},
     "output_type": "execute_result"
    }
   ],
   "source": [
    "df.shape"
   ]
  },
  {
   "cell_type": "code",
   "execution_count": 7,
   "id": "3fc36408",
   "metadata": {},
   "outputs": [],
   "source": [
    "df=df.rename(columns={'approx_cost(for two people)':'cost','listed_in(type)':'type','listed_in(city)':'city'})"
   ]
  },
  {
   "cell_type": "code",
   "execution_count": 8,
   "id": "c3ba76d7",
   "metadata": {},
   "outputs": [
    {
     "data": {
      "text/plain": [
       "url             0\n",
       "address         0\n",
       "name            0\n",
       "online_order    0\n",
       "book_table      0\n",
       "rate            0\n",
       "votes           0\n",
       "phone           0\n",
       "location        0\n",
       "rest_type       0\n",
       "dish_liked      0\n",
       "cuisines        0\n",
       "cost            0\n",
       "reviews_list    0\n",
       "menu_item       0\n",
       "type            0\n",
       "city            0\n",
       "dtype: int64"
      ]
     },
     "execution_count": 8,
     "metadata": {},
     "output_type": "execute_result"
    }
   ],
   "source": [
    "df.dropna(inplace=True)\n",
    "df.isnull().sum()"
   ]
  },
  {
   "cell_type": "code",
   "execution_count": 9,
   "id": "303d1f87",
   "metadata": {},
   "outputs": [
    {
     "data": {
      "text/plain": [
       "32498    1.0\n",
       "2445     0.0\n",
       "2735     0.0\n",
       "21890    0.0\n",
       "21853    0.0\n",
       "        ... \n",
       "20824    0.0\n",
       "19819    0.0\n",
       "43364    1.0\n",
       "1041     1.0\n",
       "44140    0.0\n",
       "Name: book_table, Length: 13443, dtype: float64"
      ]
     },
     "execution_count": 9,
     "metadata": {},
     "output_type": "execute_result"
    }
   ],
   "source": [
    "# Encoding\n",
    "data = df.copy()\n",
    "\n",
    "le = LabelEncoder()  \n",
    "data.online_order = le.fit_transform(data.online_order)\n",
    "data.book_table = le.fit_transform(data.book_table)\n",
    "data['online_order'].unique()\n",
    "data['book_table'].unique()\n",
    "data.online_order.astype(float)\n",
    "data.book_table.astype(float)"
   ]
  },
  {
   "cell_type": "code",
   "execution_count": 10,
   "id": "8fe18f0a",
   "metadata": {},
   "outputs": [
    {
     "data": {
      "text/plain": [
       "0        3.9\n",
       "1        2.9\n",
       "2        3.9\n",
       "3        3.8\n",
       "4        4.5\n",
       "        ... \n",
       "13350    3.8\n",
       "13351    3.9\n",
       "13352    3.7\n",
       "13353    3.9\n",
       "13354    2.9\n",
       "Name: rate, Length: 13355, dtype: float64"
      ]
     },
     "execution_count": 10,
     "metadata": {},
     "output_type": "execute_result"
    }
   ],
   "source": [
    "# Cleaning 'rate' column\n",
    "data = data.loc[data.rate !='NEW']\n",
    "\n",
    "data = data.loc[data.rate !='-'].reset_index(drop=True)\n",
    "\n",
    "data.rate= data.rate.astype(str)\n",
    "\n",
    "data.rate=data.rate.apply(lambda x : x.replace('/5',''))\n",
    "data.rate=data.rate.astype(float)\n",
    "data.rate"
   ]
  },
  {
   "cell_type": "code",
   "execution_count": 11,
   "id": "4b04c909",
   "metadata": {},
   "outputs": [
    {
     "data": {
      "text/plain": [
       "0         900.0\n",
       "1         300.0\n",
       "2         150.0\n",
       "3         600.0\n",
       "4         400.0\n",
       "          ...  \n",
       "13350     750.0\n",
       "13351     350.0\n",
       "13352    3000.0\n",
       "13353     700.0\n",
       "13354     650.0\n",
       "Name: cost, Length: 13355, dtype: float64"
      ]
     },
     "execution_count": 11,
     "metadata": {},
     "output_type": "execute_result"
    }
   ],
   "source": [
    "# cleaning 'cost' column\n",
    "data.cost = data.cost.astype(str)\n",
    "data.cost = data.cost.apply(lambda x : x.replace(',',''))\n",
    "data.cost = data.cost.astype(float)\n",
    "data.cost"
   ]
  },
  {
   "cell_type": "code",
   "execution_count": 12,
   "id": "190636f7",
   "metadata": {},
   "outputs": [
    {
     "data": {
      "text/plain": [
       "0         74.0\n",
       "1        126.0\n",
       "2         61.0\n",
       "3        474.0\n",
       "4        556.0\n",
       "         ...  \n",
       "13350     59.0\n",
       "13351    135.0\n",
       "13352     57.0\n",
       "13353    486.0\n",
       "13354    140.0\n",
       "Name: votes, Length: 13355, dtype: float64"
      ]
     },
     "execution_count": 12,
     "metadata": {},
     "output_type": "execute_result"
    }
   ],
   "source": [
    "data.votes.astype(float)"
   ]
  },
  {
   "cell_type": "code",
   "execution_count": 13,
   "id": "41775dbf",
   "metadata": {},
   "outputs": [
    {
     "data": {
      "text/plain": [
       "(13355, 17)"
      ]
     },
     "execution_count": 13,
     "metadata": {},
     "output_type": "execute_result"
    }
   ],
   "source": [
    "# Dropping duplicates\n",
    "data.drop_duplicates(keep='first',inplace = True)\n",
    "data.shape"
   ]
  },
  {
   "cell_type": "code",
   "execution_count": 14,
   "id": "9ab92f75",
   "metadata": {},
   "outputs": [],
   "source": [
    "# Removing unwanted columns\n",
    "data=data.drop(['url','name','address','phone','location','city','menu_item'],axis=1)"
   ]
  },
  {
   "cell_type": "code",
   "execution_count": 15,
   "id": "8339ddfb",
   "metadata": {},
   "outputs": [
    {
     "data": {
      "text/html": [
       "<div>\n",
       "<style scoped>\n",
       "    .dataframe tbody tr th:only-of-type {\n",
       "        vertical-align: middle;\n",
       "    }\n",
       "\n",
       "    .dataframe tbody tr th {\n",
       "        vertical-align: top;\n",
       "    }\n",
       "\n",
       "    .dataframe thead th {\n",
       "        text-align: right;\n",
       "    }\n",
       "</style>\n",
       "<table border=\"1\" class=\"dataframe\">\n",
       "  <thead>\n",
       "    <tr style=\"text-align: right;\">\n",
       "      <th></th>\n",
       "      <th>online_order</th>\n",
       "      <th>book_table</th>\n",
       "      <th>rate</th>\n",
       "      <th>votes</th>\n",
       "      <th>rest_type</th>\n",
       "      <th>dish_liked</th>\n",
       "      <th>cuisines</th>\n",
       "      <th>cost</th>\n",
       "      <th>reviews_list</th>\n",
       "      <th>type</th>\n",
       "    </tr>\n",
       "  </thead>\n",
       "  <tbody>\n",
       "    <tr>\n",
       "      <th>0</th>\n",
       "      <td>0</td>\n",
       "      <td>0</td>\n",
       "      <td>3.9</td>\n",
       "      <td>74</td>\n",
       "      <td>0</td>\n",
       "      <td>0</td>\n",
       "      <td>0</td>\n",
       "      <td>900.0</td>\n",
       "      <td>0</td>\n",
       "      <td>0</td>\n",
       "    </tr>\n",
       "    <tr>\n",
       "      <th>1</th>\n",
       "      <td>0</td>\n",
       "      <td>1</td>\n",
       "      <td>2.9</td>\n",
       "      <td>126</td>\n",
       "      <td>1</td>\n",
       "      <td>1</td>\n",
       "      <td>1</td>\n",
       "      <td>300.0</td>\n",
       "      <td>1</td>\n",
       "      <td>1</td>\n",
       "    </tr>\n",
       "    <tr>\n",
       "      <th>2</th>\n",
       "      <td>0</td>\n",
       "      <td>1</td>\n",
       "      <td>3.9</td>\n",
       "      <td>61</td>\n",
       "      <td>2</td>\n",
       "      <td>2</td>\n",
       "      <td>2</td>\n",
       "      <td>150.0</td>\n",
       "      <td>2</td>\n",
       "      <td>0</td>\n",
       "    </tr>\n",
       "    <tr>\n",
       "      <th>3</th>\n",
       "      <td>0</td>\n",
       "      <td>1</td>\n",
       "      <td>3.8</td>\n",
       "      <td>474</td>\n",
       "      <td>1</td>\n",
       "      <td>3</td>\n",
       "      <td>3</td>\n",
       "      <td>600.0</td>\n",
       "      <td>3</td>\n",
       "      <td>0</td>\n",
       "    </tr>\n",
       "    <tr>\n",
       "      <th>4</th>\n",
       "      <td>0</td>\n",
       "      <td>1</td>\n",
       "      <td>4.5</td>\n",
       "      <td>556</td>\n",
       "      <td>3</td>\n",
       "      <td>4</td>\n",
       "      <td>4</td>\n",
       "      <td>400.0</td>\n",
       "      <td>4</td>\n",
       "      <td>0</td>\n",
       "    </tr>\n",
       "  </tbody>\n",
       "</table>\n",
       "</div>"
      ],
      "text/plain": [
       "   online_order  book_table  rate  votes  rest_type  dish_liked  cuisines  \\\n",
       "0             0           0   3.9     74          0           0         0   \n",
       "1             0           1   2.9    126          1           1         1   \n",
       "2             0           1   3.9     61          2           2         2   \n",
       "3             0           1   3.8    474          1           3         3   \n",
       "4             0           1   4.5    556          3           4         4   \n",
       "\n",
       "    cost  reviews_list  type  \n",
       "0  900.0             0     0  \n",
       "1  300.0             1     1  \n",
       "2  150.0             2     0  \n",
       "3  600.0             3     0  \n",
       "4  400.0             4     0  "
      ]
     },
     "execution_count": 15,
     "metadata": {},
     "output_type": "execute_result"
    }
   ],
   "source": [
    "# Encoding\n",
    "def Encode(X):\n",
    "    for column in X.columns[~X.columns.isin(['rate', 'cost', 'votes'])]:\n",
    "        X[column] = pd.factorize(X[column])[0]\n",
    "    return X\n",
    "\n",
    "encoded_data = Encode(data.copy())\n",
    "encoded_data.head()"
   ]
  },
  {
   "cell_type": "code",
   "execution_count": 16,
   "id": "2083b3df",
   "metadata": {},
   "outputs": [
    {
     "data": {
      "text/html": [
       "<div>\n",
       "<style scoped>\n",
       "    .dataframe tbody tr th:only-of-type {\n",
       "        vertical-align: middle;\n",
       "    }\n",
       "\n",
       "    .dataframe tbody tr th {\n",
       "        vertical-align: top;\n",
       "    }\n",
       "\n",
       "    .dataframe thead th {\n",
       "        text-align: right;\n",
       "    }\n",
       "</style>\n",
       "<table border=\"1\" class=\"dataframe\">\n",
       "  <thead>\n",
       "    <tr style=\"text-align: right;\">\n",
       "      <th></th>\n",
       "      <th>online_order</th>\n",
       "      <th>book_table</th>\n",
       "      <th>rate</th>\n",
       "      <th>votes</th>\n",
       "      <th>rest_type</th>\n",
       "      <th>dish_liked</th>\n",
       "      <th>cuisines</th>\n",
       "      <th>cost</th>\n",
       "      <th>reviews_list</th>\n",
       "      <th>type</th>\n",
       "    </tr>\n",
       "  </thead>\n",
       "  <tbody>\n",
       "    <tr>\n",
       "      <th>0</th>\n",
       "      <td>-0.648648</td>\n",
       "      <td>-1.661918</td>\n",
       "      <td>-0.020031</td>\n",
       "      <td>-0.488678</td>\n",
       "      <td>-0.631754</td>\n",
       "      <td>-1.404984</td>\n",
       "      <td>-1.028682</td>\n",
       "      <td>0.270642</td>\n",
       "      <td>-1.482676</td>\n",
       "      <td>-0.696200</td>\n",
       "    </tr>\n",
       "    <tr>\n",
       "      <th>1</th>\n",
       "      <td>-0.648648</td>\n",
       "      <td>0.601714</td>\n",
       "      <td>-2.381198</td>\n",
       "      <td>-0.440734</td>\n",
       "      <td>-0.550696</td>\n",
       "      <td>-1.404154</td>\n",
       "      <td>-1.026213</td>\n",
       "      <td>-0.872223</td>\n",
       "      <td>-1.482305</td>\n",
       "      <td>-0.096809</td>\n",
       "    </tr>\n",
       "    <tr>\n",
       "      <th>2</th>\n",
       "      <td>-0.648648</td>\n",
       "      <td>0.601714</td>\n",
       "      <td>-0.020031</td>\n",
       "      <td>-0.500664</td>\n",
       "      <td>-0.469638</td>\n",
       "      <td>-1.403324</td>\n",
       "      <td>-1.023745</td>\n",
       "      <td>-1.157940</td>\n",
       "      <td>-1.481935</td>\n",
       "      <td>-0.696200</td>\n",
       "    </tr>\n",
       "    <tr>\n",
       "      <th>3</th>\n",
       "      <td>-0.648648</td>\n",
       "      <td>0.601714</td>\n",
       "      <td>-0.256148</td>\n",
       "      <td>-0.119879</td>\n",
       "      <td>-0.550696</td>\n",
       "      <td>-1.402495</td>\n",
       "      <td>-1.021277</td>\n",
       "      <td>-0.300791</td>\n",
       "      <td>-1.481564</td>\n",
       "      <td>-0.696200</td>\n",
       "    </tr>\n",
       "    <tr>\n",
       "      <th>4</th>\n",
       "      <td>-0.648648</td>\n",
       "      <td>0.601714</td>\n",
       "      <td>1.396669</td>\n",
       "      <td>-0.044275</td>\n",
       "      <td>-0.388580</td>\n",
       "      <td>-1.401665</td>\n",
       "      <td>-1.018808</td>\n",
       "      <td>-0.681746</td>\n",
       "      <td>-1.481193</td>\n",
       "      <td>-0.696200</td>\n",
       "    </tr>\n",
       "  </tbody>\n",
       "</table>\n",
       "</div>"
      ],
      "text/plain": [
       "   online_order  book_table      rate     votes  rest_type  dish_liked  \\\n",
       "0     -0.648648   -1.661918 -0.020031 -0.488678  -0.631754   -1.404984   \n",
       "1     -0.648648    0.601714 -2.381198 -0.440734  -0.550696   -1.404154   \n",
       "2     -0.648648    0.601714 -0.020031 -0.500664  -0.469638   -1.403324   \n",
       "3     -0.648648    0.601714 -0.256148 -0.119879  -0.550696   -1.402495   \n",
       "4     -0.648648    0.601714  1.396669 -0.044275  -0.388580   -1.401665   \n",
       "\n",
       "   cuisines      cost  reviews_list      type  \n",
       "0 -1.028682  0.270642     -1.482676 -0.696200  \n",
       "1 -1.026213 -0.872223     -1.482305 -0.096809  \n",
       "2 -1.023745 -1.157940     -1.481935 -0.696200  \n",
       "3 -1.021277 -0.300791     -1.481564 -0.696200  \n",
       "4 -1.018808 -0.681746     -1.481193 -0.696200  "
      ]
     },
     "execution_count": 16,
     "metadata": {},
     "output_type": "execute_result"
    }
   ],
   "source": [
    "# Standardizing data\n",
    "scaler = StandardScaler()\n",
    "final_data=pd.DataFrame(scaler.fit_transform(encoded_data),columns=encoded_data.columns)\n",
    "final_data.head()"
   ]
  },
  {
   "cell_type": "code",
   "execution_count": 17,
   "id": "05b19037",
   "metadata": {},
   "outputs": [],
   "source": [
    "# Splitting data\n",
    "X=final_data.drop(['rate'],axis=1)\n",
    "y=final_data['rate']\n",
    "X_train,X_test,y_train,y_test=train_test_split(X,y,test_size=.3,random_state=42)"
   ]
  },
  {
   "cell_type": "code",
   "execution_count": 18,
   "id": "a1214f1f",
   "metadata": {},
   "outputs": [
    {
     "name": "stdout",
     "output_type": "stream",
     "text": [
      "X_train shape (9348, 9)\n",
      "X_test shape (4007, 9)\n"
     ]
    }
   ],
   "source": [
    "print('X_train shape',X_train.shape)\n",
    "print('X_test shape',X_test.shape)"
   ]
  },
  {
   "cell_type": "code",
   "execution_count": 19,
   "id": "ca359fa2",
   "metadata": {},
   "outputs": [
    {
     "name": "stdout",
     "output_type": "stream",
     "text": [
      "y_train shape (9348,)\n",
      "y_test shape (4007,)\n"
     ]
    }
   ],
   "source": [
    "print('y_train shape',y_train.shape)\n",
    "print('y_test shape',y_test.shape)"
   ]
  },
  {
   "cell_type": "code",
   "execution_count": 20,
   "id": "9557a1d5",
   "metadata": {},
   "outputs": [
    {
     "data": {
      "image/png": "[encoded data removed]",
      "text/plain": [
       "<Figure size 432x288 with 1 Axes>"
      ]
     },
     "metadata": {
      "needs_background": "light"
     },
     "output_type": "display_data"
    }
   ],
   "source": [
    "# dependency between ouput and other features\n",
    "ETR=ExtraTreesRegressor().fit(X,y)\n",
    "\n",
    "important_features=pd.Series(ETR.feature_importances_,index=X.columns)\n",
    "important_features.plot(kind='bar')\n",
    "plt.show()"
   ]
  },
  {
   "cell_type": "code",
   "execution_count": 21,
   "id": "45af04b0",
   "metadata": {},
   "outputs": [
    {
     "name": "stdout",
     "output_type": "stream",
     "text": [
      "Accuracy is : 0.2202431458915718\n"
     ]
    }
   ],
   "source": [
    "# Linear regression\n",
    "linear_regressor=LinearRegression().fit(X_train,y_train)\n",
    "linear_predict=linear_regressor.predict(X_test)\n",
    "print('Accuracy is : {}'.format(r2_score(y_test,linear_predict)))"
   ]
  },
  {
   "cell_type": "code",
   "execution_count": 22,
   "id": "fd3f234f",
   "metadata": {},
   "outputs": [
    {
     "data": {
      "text/plain": [
       "<AxesSubplot:xlabel='rate', ylabel='Density'>"
      ]
     },
     "execution_count": 22,
     "metadata": {},
     "output_type": "execute_result"
    },
    {
     "data": {
      "image/png": "[encoded data removed]",
      "text/plain": [
       "<Figure size 432x288 with 1 Axes>"
      ]
     },
     "metadata": {
      "needs_background": "light"
     },
     "output_type": "display_data"
    }
   ],
   "source": [
    "sns.distplot(y_test-linear_predict)"
   ]
  },
  {
   "cell_type": "code",
   "execution_count": 23,
   "id": "4b1dc6a9",
   "metadata": {},
   "outputs": [
    {
     "name": "stdout",
     "output_type": "stream",
     "text": [
      "Accuracy is : 0.5757882833650869\n"
     ]
    }
   ],
   "source": [
    "# Decision tree\n",
    "DTree_model=DecisionTreeRegressor().fit(X_train,y_train)\n",
    "DT_predict=DTree_model.predict(X_test)\n",
    "print('Accuracy is : {}'.format(r2_score(y_test,DT_predict)))"
   ]
  },
  {
   "cell_type": "code",
   "execution_count": 24,
   "id": "7c4f72b4",
   "metadata": {},
   "outputs": [
    {
     "data": {
      "text/plain": [
       "<AxesSubplot:xlabel='rate', ylabel='Density'>"
      ]
     },
     "execution_count": 24,
     "metadata": {},
     "output_type": "execute_result"
    },
    {
     "data": {
      "image/png": "[encoded data removed]",
      "text/plain": [
       "<Figure size 432x288 with 1 Axes>"
      ]
     },
     "metadata": {
      "needs_background": "light"
     },
     "output_type": "display_data"
    }
   ],
   "source": [
    "sns.distplot(y_test-DT_predict)"
   ]
  },
  {
   "cell_type": "code",
   "execution_count": 25,
   "id": "da89b0c9",
   "metadata": {},
   "outputs": [
    {
     "name": "stdout",
     "output_type": "stream",
     "text": [
      "Accuracy is : 0.7360678298408145\n"
     ]
    }
   ],
   "source": [
    "# Random forest\n",
    "RandomForest_model=RandomForestRegressor(n_estimators=500,random_state=430,min_samples_leaf=.0001).fit(X_train,y_train)\n",
    "RF_predict=RandomForest_model.predict(X_test)\n",
    "print('Accuracy is : {}'.format(r2_score(y_test,RF_predict)))"
   ]
  },
  {
   "cell_type": "code",
   "execution_count": 26,
   "id": "d2aaeddf",
   "metadata": {},
   "outputs": [
    {
     "data": {
      "text/plain": [
       "<AxesSubplot:xlabel='rate', ylabel='Density'>"
      ]
     },
     "execution_count": 26,
     "metadata": {},
     "output_type": "execute_result"
    },
    {
     "data": {
      "image/png": "[encoded data removed]",
      "text/plain": [
       "<Figure size 432x288 with 1 Axes>"
      ]
     },
     "metadata": {
      "needs_background": "light"
     },
     "output_type": "display_data"
    }
   ],
   "source": [
    "sns.distplot(y_test-RF_predict)"
   ]
  },
  {
   "cell_type": "code",
   "execution_count": 27,
   "id": "c50b713f",
   "metadata": {},
   "outputs": [
    {
     "name": "stdout",
     "output_type": "stream",
     "text": [
      "Accuracy is 0.6613529851089104\n"
     ]
    }
   ],
   "source": [
    "# XGBoost\n",
    "XGB_reg=XGBRegressor().fit(X_train,y_train)\n",
    "XGB_predict=XGB_reg.predict(X_test)\n",
    "print('Accuracy is {}'.format(r2_score(y_test,XGB_predict)))"
   ]
  },
  {
   "cell_type": "code",
   "execution_count": 28,
   "id": "c2300eb3",
   "metadata": {},
   "outputs": [
    {
     "data": {
      "text/plain": [
       "<AxesSubplot:xlabel='rate', ylabel='Density'>"
      ]
     },
     "execution_count": 28,
     "metadata": {},
     "output_type": "execute_result"
    },
    {
     "data": {
      "image/png": "[encoded data removed]",
      "text/plain": [
       "<Figure size 432x288 with 1 Axes>"
      ]
     },
     "metadata": {
      "needs_background": "light"
     },
     "output_type": "display_data"
    }
   ],
   "source": [
    "sns.distplot(y_test-XGB_predict)"
   ]
  },
  {
   "cell_type": "markdown",
   "id": "8a2b955a",
   "metadata": {},
   "source": [
    "### Results:\n",
    "- Accuracy of Linear Regresssion is approximately 22\n",
    "- Accuracy of Decision Tree Regresssor is approximately 80\n",
    "- Accuracy of Random Forest Regresssor is approximately 87\n",
    "- Accuracy of XGBoost Regresssor is approximately 77\n",
    "#### Based on accuracy,Random forest regressor will be considered for the further process."
   ]
  },
  {
   "cell_type": "code",
   "execution_count": 29,
   "id": "93964547",
   "metadata": {},
   "outputs": [],
   "source": [
    "import pickle"
   ]
  },
  {
   "cell_type": "code",
   "execution_count": 30,
   "id": "9d02c64c",
   "metadata": {},
   "outputs": [],
   "source": [
    "file=open('RF.pkl','wb')\n",
    "pickle.dump(RandomForest_model,file)"
   ]
  },
  {
   "cell_type": "code",
   "execution_count": null,
   "id": "9c0fa532",
   "metadata": {},
   "outputs": [],
   "source": []
  }
 ],
 "metadata": {
  "kernelspec": {
   "display_name": "Python 3 (ipykernel)",
   "language": "python",
   "name": "python3"
  },
  "language_info": {
   "codemirror_mode": {
    "name": "ipython",
    "version": 3
   },
   "file_extension": ".py",
   "mimetype": "text/x-python",
   "name": "python",
   "nbconvert_exporter": "python",
   "pygments_lexer": "ipython3",
   "version": "3.7.12"
  }
 },
 "nbformat": 4,
 "nbformat_minor": 5
}
